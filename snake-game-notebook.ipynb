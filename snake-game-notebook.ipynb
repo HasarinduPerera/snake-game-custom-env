{
 "cells": [
  {
   "cell_type": "code",
   "execution_count": 1,
   "id": "91c609a0-c484-4fe4-945d-a1d819b4f9ad",
   "metadata": {},
   "outputs": [
    {
     "name": "stdout",
     "output_type": "stream",
     "text": [
      "pygame 2.1.0 (SDL 2.0.16, Python 3.8.12)\n",
      "Hello from the pygame community. https://www.pygame.org/contribute.html\n"
     ]
    }
   ],
   "source": [
    "import pygame, sys, time, random\n",
    "from pygame.surfarray import array3d\n",
    "\n",
    "## Sets up colors for the game env using RGB Codes\n",
    "\n",
    "BLACK = pygame.Color(0, 0, 0)\n",
    "WHITE = pygame.Color(255, 255, 255)\n",
    "RED = pygame.Color(255, 0, 0)\n",
    "BLUE = pygame.Color(0, 0, 255) \n",
    "\n",
    "\n",
    "class SnakeEnv():\n",
    "    \n",
    "    def __init__(self,frame_size_x,frame_size_y):\n",
    "        '''\n",
    "        Defines the initial game window size\n",
    "        '''\n",
    "        self.frame_size_x = frame_size_x\n",
    "        self.frame_size_y = frame_size_y\n",
    "        self.game_window = pygame.display.set_mode((self.frame_size_x, self.frame_size_y))\n",
    "        self.reset()\n",
    "    \n",
    "    def reset(self):\n",
    "        '''\n",
    "        Resets the game, along with the default snake size and spawning food.\n",
    "        '''\n",
    "        self.game_window.fill(BLACK)\n",
    "        self.snake_pos = [200, 300]\n",
    "        self.snake_body = [[200, 250], [200-10, 250], [200-(2*10), 250]]\n",
    "        self.food_pos = self.spawn_food()\n",
    "        self.food_spawn = True\n",
    "\n",
    "        self.direction = \"RIGHT\"\n",
    "        self.action = self.direction\n",
    "        self.score = 0\n",
    "        self.steps = 0\n",
    "        print(\"Game Reset.\")\n",
    "    \n",
    "    def change_direction(self,action,direction):\n",
    "        '''\n",
    "        Changes direction based on action input. \n",
    "        Checkes to make sure snake can't go back on itself.\n",
    "        '''\n",
    "        \n",
    "        if action == 'UP' and direction != 'DOWN':\n",
    "            direction = 'UP'\n",
    "        if action == 'DOWN' and direction != 'UP':\n",
    "            direction = 'DOWN'\n",
    "        if action == 'LEFT' and direction != 'RIGHT':\n",
    "            direction = 'LEFT'\n",
    "        if action == 'RIGHT' and direction != 'LEFT':\n",
    "            direction = 'RIGHT'\n",
    "            \n",
    "        return direction\n",
    "    \n",
    "    def move(self,direction,snake_pos):\n",
    "        '''\n",
    "        Updates snake_pos list to reflect direction change.\n",
    "        '''\n",
    "            \n",
    "        if direction == 'UP':\n",
    "            snake_pos[1] -= 10\n",
    "        if direction == 'DOWN':\n",
    "            snake_pos[1] += 10\n",
    "        if direction == 'LEFT':\n",
    "            snake_pos[0] -= 10\n",
    "        if direction == 'RIGHT':\n",
    "            snake_pos[0] += 10\n",
    "            \n",
    "        return snake_pos\n",
    "   \n",
    "    def spawn_food(self):\n",
    "        '''\n",
    "        Spawns food in a random location on window size\n",
    "        '''\n",
    "        return [random.randrange(1, (self.frame_size_x//10)) * 10, random.randrange(1, (self.frame_size_y//10)) * 10]\n",
    "    "
   ]
  },
  {
   "cell_type": "code",
   "execution_count": 2,
   "id": "5b98a619-c1e9-4714-9737-ef27d02ed21f",
   "metadata": {},
   "outputs": [
    {
     "name": "stdout",
     "output_type": "stream",
     "text": [
      "Game Reset.\n"
     ]
    }
   ],
   "source": []
  },
  {
   "cell_type": "code",
   "execution_count": null,
   "id": "ad86647b-8cd6-4e2a-8e04-ffedfa29179f",
   "metadata": {},
   "outputs": [],
   "source": []
  }
 ],
 "metadata": {
  "kernelspec": {
   "display_name": "Python 3 (ipykernel)",
   "language": "python",
   "name": "python3"
  },
  "language_info": {
   "codemirror_mode": {
    "name": "ipython",
    "version": 3
   },
   "file_extension": ".py",
   "mimetype": "text/x-python",
   "name": "python",
   "nbconvert_exporter": "python",
   "pygments_lexer": "ipython3",
   "version": "3.8.12"
  }
 },
 "nbformat": 4,
 "nbformat_minor": 5
}
